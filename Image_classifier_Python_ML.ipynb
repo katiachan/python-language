{
  "nbformat": 4,
  "nbformat_minor": 0,
  "metadata": {
    "colab": {
      "name": "Image classifier Python ML.ipynb",
      "provenance": [],
      "authorship_tag": "ABX9TyP44Dt+wmBpp1muF3KCJP0Q",
      "include_colab_link": true
    },
    "kernelspec": {
      "name": "python3",
      "display_name": "Python 3"
    }
  },
  "cells": [
    {
      "cell_type": "markdown",
      "metadata": {
        "id": "view-in-github",
        "colab_type": "text"
      },
      "source": [
        "<a href=\"https://colab.research.google.com/github/katiachan/python-language/blob/new/Image_classifier_Python_ML.ipynb\" target=\"_parent\"><img src=\"https://colab.research.google.com/assets/colab-badge.svg\" alt=\"Open In Colab\"/></a>"
      ]
    },
    {
      "cell_type": "markdown",
      "metadata": {
        "id": "xVI6tMGdM011"
      },
      "source": [
        "###Import the libraries"
      ]
    },
    {
      "cell_type": "code",
      "metadata": {
        "id": "MAAxr5s_6ebi"
      },
      "source": [
        "import tensorflow as tf\n",
        "from tensorflow import keras\n",
        "from keras.models import Sequential\n",
        "from keras.layers import Dense, Flatten, Conv2D, MaxPooling2D, Dropout\n",
        "from tensorflow.keras import layers\n",
        "from keras.utils import to_categorical\n",
        "import numpy as np\n",
        "import matplotlib.pyplot as plt\n",
        "plt.style.use('fivethirtyeight')\n"
      ],
      "execution_count": null,
      "outputs": []
    },
    {
      "cell_type": "markdown",
      "metadata": {
        "id": "KBmaV-TYOXm5"
      },
      "source": [
        "###Load the data\n"
      ]
    },
    {
      "cell_type": "code",
      "metadata": {
        "id": "hwsmUemlOemh",
        "colab": {
          "base_uri": "https://localhost:8080/"
        },
        "outputId": "2cbd55b9-85b6-4451-ed8f-ca41b4f99b6f"
      },
      "source": [
        "from keras.datasets import cifar10\n",
        "(x_train, y_train), (x_test, y_test) = cifar10.load_data()"
      ],
      "execution_count": null,
      "outputs": [
        {
          "output_type": "stream",
          "text": [
            "Downloading data from https://www.cs.toronto.edu/~kriz/cifar-10-python.tar.gz\n",
            "170500096/170498071 [==============================] - 2s 0us/step\n"
          ],
          "name": "stdout"
        }
      ]
    },
    {
      "cell_type": "markdown",
      "metadata": {
        "id": "LT9B60AvPn9k"
      },
      "source": [
        "###Get the shape of the variables arrays"
      ]
    },
    {
      "cell_type": "code",
      "metadata": {
        "id": "oU_LGyg5PrQY",
        "colab": {
          "base_uri": "https://localhost:8080/"
        },
        "outputId": "33378850-6e0b-48db-a75a-95bcc553c442"
      },
      "source": [
        "print('x_train shape:', x_train.shape) \n",
        "print('y_train shape:', y_train.shape)\n",
        "print('x_test shape:', x_test.shape)\n",
        "print('y_test shape:', y_test.shape)\n",
        "\n",
        "#We see that the shape of the x_train variable is a 4 dimensional array\n",
        "#we have 50000 rows of data containing 32 by 32 images with depth 3 (for Red Green and Blue)"
      ],
      "execution_count": null,
      "outputs": [
        {
          "output_type": "stream",
          "text": [
            "x_train shape: (50000, 32, 32, 3)\n",
            "y_train shape: (50000, 1)\n",
            "x_test shape: (10000, 32, 32, 3)\n",
            "y_test shape: (10000, 1)\n"
          ],
          "name": "stdout"
        }
      ]
    },
    {
      "cell_type": "markdown",
      "metadata": {
        "id": "SbSSZA02aAMq"
      },
      "source": [
        "###Take a look at the first image as an array and picture"
      ]
    },
    {
      "cell_type": "code",
      "metadata": {
        "id": "j_9d8Q8FP4iM",
        "colab": {
          "base_uri": "https://localhost:8080/"
        },
        "outputId": "6a55fed4-0a0e-4b37-f5a0-b8eb3b44a5d2"
      },
      "source": [
        "index = 10\n",
        "x_train[index]"
      ],
      "execution_count": null,
      "outputs": [
        {
          "output_type": "execute_result",
          "data": {
            "text/plain": [
              "array([[[53, 65, 53],\n",
              "        [54, 63, 52],\n",
              "        [56, 60, 50],\n",
              "        ...,\n",
              "        [47, 51, 50],\n",
              "        [41, 45, 44],\n",
              "        [24, 28, 27]],\n",
              "\n",
              "       [[46, 59, 41],\n",
              "        [53, 62, 45],\n",
              "        [54, 59, 44],\n",
              "        ...,\n",
              "        [42, 46, 45],\n",
              "        [39, 43, 42],\n",
              "        [28, 32, 31]],\n",
              "\n",
              "       [[45, 59, 38],\n",
              "        [50, 60, 41],\n",
              "        [46, 52, 34],\n",
              "        ...,\n",
              "        [38, 42, 41],\n",
              "        [36, 40, 39],\n",
              "        [29, 33, 32]],\n",
              "\n",
              "       ...,\n",
              "\n",
              "       [[71, 83, 66],\n",
              "        [74, 83, 66],\n",
              "        [80, 85, 67],\n",
              "        ...,\n",
              "        [51, 54, 33],\n",
              "        [46, 49, 34],\n",
              "        [49, 50, 41]],\n",
              "\n",
              "       [[75, 82, 67],\n",
              "        [79, 85, 69],\n",
              "        [81, 85, 67],\n",
              "        ...,\n",
              "        [61, 65, 41],\n",
              "        [64, 67, 48],\n",
              "        [48, 50, 41]],\n",
              "\n",
              "       [[85, 83, 71],\n",
              "        [85, 84, 71],\n",
              "        [86, 86, 70],\n",
              "        ...,\n",
              "        [61, 65, 39],\n",
              "        [64, 67, 46],\n",
              "        [49, 50, 41]]], dtype=uint8)"
            ]
          },
          "metadata": {
            "tags": []
          },
          "execution_count": 4
        }
      ]
    },
    {
      "cell_type": "code",
      "metadata": {
        "id": "BvEXi9f6Qz2J",
        "colab": {
          "base_uri": "https://localhost:8080/",
          "height": 262
        },
        "outputId": "08905ab7-415f-4d33-8ef3-2fd6af9b2a4d"
      },
      "source": [
        "#Show the image as a picture\n",
        "img = plt.imshow(x_train[index])"
      ],
      "execution_count": null,
      "outputs": [
        {
          "output_type": "display_data",
          "data": {
            "image/png": "[encoded data removed]",
            "text/plain": [
              "<Figure size 432x288 with 1 Axes>"
            ]
          },
          "metadata": {
            "tags": [],
            "needs_background": "light"
          }
        }
      ]
    },
    {
      "cell_type": "markdown",
      "metadata": {
        "id": "4dAE1_kbb_T7"
      },
      "source": [
        "###Get image label and classification"
      ]
    },
    {
      "cell_type": "code",
      "metadata": {
        "id": "TTtIg6zyRIIV",
        "colab": {
          "base_uri": "https://localhost:8080/"
        },
        "outputId": "3023d380-450f-41e3-8898-0a338a903279"
      },
      "source": [
        "#Get image label\n",
        "print('The image label is:', y_train[index])"
      ],
      "execution_count": null,
      "outputs": [
        {
          "output_type": "stream",
          "text": [
            "The image label is: [4]\n"
          ],
          "name": "stdout"
        }
      ]
    },
    {
      "cell_type": "code",
      "metadata": {
        "id": "g0RkuXDxV4Yd",
        "colab": {
          "base_uri": "https://localhost:8080/"
        },
        "outputId": "392cc97c-fdd9-41e9-f8f0-e3a70a3ec879"
      },
      "source": [
        "#Get image classification\n",
        "classification = ['airplane', 'automobile', 'bird', 'cat', 'deer', 'dog', 'frog', 'horse', 'ship', 'truck']\n",
        "print('The image class is:', classification[y_train[index] [0]])"
      ],
      "execution_count": null,
      "outputs": [
        {
          "output_type": "stream",
          "text": [
            "The image class is: deer\n"
          ],
          "name": "stdout"
        }
      ]
    },
    {
      "cell_type": "markdown",
      "metadata": {
        "id": "4vIGp58kcLi9"
      },
      "source": [
        "###Convert labels to put in neural network"
      ]
    },
    {
      "cell_type": "code",
      "metadata": {
        "id": "LBNqkRczZnqD"
      },
      "source": [
        "#Convert the labels into a set of 10 numbers to input into the neural network\n",
        "y_train_one_hot = to_categorical(y_train)\n",
        "y_test_one_hot = to_categorical(y_test)"
      ],
      "execution_count": null,
      "outputs": []
    },
    {
      "cell_type": "code",
      "metadata": {
        "id": "nEStc5vaaOc1",
        "colab": {
          "base_uri": "https://localhost:8080/"
        },
        "outputId": "efc37d74-d254-46eb-841c-dfc293be26b4"
      },
      "source": [
        "#Print the new labels\n",
        "print(y_train_one_hot)"
      ],
      "execution_count": null,
      "outputs": [
        {
          "output_type": "stream",
          "text": [
            "[[0. 0. 0. ... 0. 0. 0.]\n",
            " [0. 0. 0. ... 0. 0. 1.]\n",
            " [0. 0. 0. ... 0. 0. 1.]\n",
            " ...\n",
            " [0. 0. 0. ... 0. 0. 1.]\n",
            " [0. 1. 0. ... 0. 0. 0.]\n",
            " [0. 1. 0. ... 0. 0. 0.]]\n"
          ],
          "name": "stdout"
        }
      ]
    },
    {
      "cell_type": "code",
      "metadata": {
        "id": "3Dk2LWUcab0h",
        "colab": {
          "base_uri": "https://localhost:8080/"
        },
        "outputId": "6b842e22-a221-4b5a-b6ee-1d462141248e"
      },
      "source": [
        "#Print new label of the current image/picture above\n",
        "print(y_train_one_hot[index])\n",
        "\n",
        "#the result corresponds to the label 4 "
      ],
      "execution_count": null,
      "outputs": [
        {
          "output_type": "stream",
          "text": [
            "[0. 0. 0. 0. 1. 0. 0. 0. 0. 0.]\n"
          ],
          "name": "stdout"
        }
      ]
    },
    {
      "cell_type": "code",
      "metadata": {
        "id": "HcLgiO6Wa9uv"
      },
      "source": [
        "#Normalize the pixels to be values between 0 and 1\n",
        "x_train = x_train / 255\n",
        "x_test = x_test / 255"
      ],
      "execution_count": null,
      "outputs": []
    },
    {
      "cell_type": "code",
      "metadata": {
        "id": "xJf94zXna2_P",
        "colab": {
          "base_uri": "https://localhost:8080/"
        },
        "outputId": "6fc29748-7b1a-40eb-efb7-64bb351682bf"
      },
      "source": [
        "x_train[index]"
      ],
      "execution_count": null,
      "outputs": [
        {
          "output_type": "execute_result",
          "data": {
            "text/plain": [
              "array([[[0.20784314, 0.25490196, 0.20784314],\n",
              "        [0.21176471, 0.24705882, 0.20392157],\n",
              "        [0.21960784, 0.23529412, 0.19607843],\n",
              "        ...,\n",
              "        [0.18431373, 0.2       , 0.19607843],\n",
              "        [0.16078431, 0.17647059, 0.17254902],\n",
              "        [0.09411765, 0.10980392, 0.10588235]],\n",
              "\n",
              "       [[0.18039216, 0.23137255, 0.16078431],\n",
              "        [0.20784314, 0.24313725, 0.17647059],\n",
              "        [0.21176471, 0.23137255, 0.17254902],\n",
              "        ...,\n",
              "        [0.16470588, 0.18039216, 0.17647059],\n",
              "        [0.15294118, 0.16862745, 0.16470588],\n",
              "        [0.10980392, 0.1254902 , 0.12156863]],\n",
              "\n",
              "       [[0.17647059, 0.23137255, 0.14901961],\n",
              "        [0.19607843, 0.23529412, 0.16078431],\n",
              "        [0.18039216, 0.20392157, 0.13333333],\n",
              "        ...,\n",
              "        [0.14901961, 0.16470588, 0.16078431],\n",
              "        [0.14117647, 0.15686275, 0.15294118],\n",
              "        [0.11372549, 0.12941176, 0.1254902 ]],\n",
              "\n",
              "       ...,\n",
              "\n",
              "       [[0.27843137, 0.3254902 , 0.25882353],\n",
              "        [0.29019608, 0.3254902 , 0.25882353],\n",
              "        [0.31372549, 0.33333333, 0.2627451 ],\n",
              "        ...,\n",
              "        [0.2       , 0.21176471, 0.12941176],\n",
              "        [0.18039216, 0.19215686, 0.13333333],\n",
              "        [0.19215686, 0.19607843, 0.16078431]],\n",
              "\n",
              "       [[0.29411765, 0.32156863, 0.2627451 ],\n",
              "        [0.30980392, 0.33333333, 0.27058824],\n",
              "        [0.31764706, 0.33333333, 0.2627451 ],\n",
              "        ...,\n",
              "        [0.23921569, 0.25490196, 0.16078431],\n",
              "        [0.25098039, 0.2627451 , 0.18823529],\n",
              "        [0.18823529, 0.19607843, 0.16078431]],\n",
              "\n",
              "       [[0.33333333, 0.3254902 , 0.27843137],\n",
              "        [0.33333333, 0.32941176, 0.27843137],\n",
              "        [0.3372549 , 0.3372549 , 0.2745098 ],\n",
              "        ...,\n",
              "        [0.23921569, 0.25490196, 0.15294118],\n",
              "        [0.25098039, 0.2627451 , 0.18039216],\n",
              "        [0.19215686, 0.19607843, 0.16078431]]])"
            ]
          },
          "metadata": {
            "tags": []
          },
          "execution_count": 13
        }
      ]
    },
    {
      "cell_type": "markdown",
      "metadata": {
        "id": "61VP5RpebdAs"
      },
      "source": [
        "## Create the models architecture"
      ]
    },
    {
      "cell_type": "code",
      "metadata": {
        "id": "rJqs7k69bV2D"
      },
      "source": [
        "model = Sequential()\n",
        "\n",
        "#Add the first layer\n",
        "model.add( Conv2D(32, (5,5), activation='relu', input_shape=(32,32,3)) )\n",
        "\n",
        "#Add a pooling layer (2 by 2 pixel filter)\n",
        "model.add(MaxPooling2D(pool_size = (2,2)))\n",
        "\n",
        "#Add another convolution layer\n",
        "model.add( Conv2D(32, (5,5), activation='relu') )\n",
        "\n",
        "#Add another pooling layer\n",
        "model.add(MaxPooling2D(pool_size = (2,2)))\n",
        "\n",
        "#Add a flattening layer\n",
        "model.add(Flatten())\n",
        "\n",
        "#Add a layer with 1000 neurons\n",
        "model.add(Dense(1000, activation='relu'))\n",
        "\n",
        "#Add a dropout layer\n",
        "model.add(Dropout(0.5))\n",
        "\n",
        "#Add a layer with 500 neurons\n",
        "model.add(Dense(500, activation='relu'))\n",
        "\n",
        "#Add a dropout layer\n",
        "model.add(Dropout(0.5))\n",
        "\n",
        "#Add a layer with 250 neurons\n",
        "model.add(Dense(250, activation='relu'))\n",
        "\n",
        "#Add a dropout layer\n",
        "model.add(Dropout(0.5))\n",
        "\n",
        "#Add a layer with 10 neurons\n",
        "model.add(Dense(10, activation='softmax'))\n"
      ],
      "execution_count": null,
      "outputs": []
    },
    {
      "cell_type": "code",
      "metadata": {
        "id": "AfjojLaNdRHC"
      },
      "source": [
        "#Compile the model\n",
        "model.compile(loss = 'categorical_crossentropy',\n",
        "              optimizer = 'adam',\n",
        "              metrics = ['accuracy'])"
      ],
      "execution_count": null,
      "outputs": []
    },
    {
      "cell_type": "code",
      "metadata": {
        "id": "I-n5WzvadmkN",
        "colab": {
          "base_uri": "https://localhost:8080/"
        },
        "outputId": "fa6ce2f9-a9ce-4eae-d4e6-b626b444dd81"
      },
      "source": [
        "#Train the model\n",
        "hist = model.fit(x_train, y_train_one_hot,\n",
        "                 batch_size = 256,\n",
        "                 epochs = 10,\n",
        "                 validation_split = 0.2)\n"
      ],
      "execution_count": null,
      "outputs": [
        {
          "output_type": "stream",
          "text": [
            "Epoch 1/10\n",
            "157/157 [==============================] - 55s 353ms/step - loss: 1.9564 - accuracy: 0.2556 - val_loss: 1.5964 - val_accuracy: 0.4080\n",
            "Epoch 2/10\n",
            "157/157 [==============================] - 55s 351ms/step - loss: 1.5689 - accuracy: 0.4209 - val_loss: 1.4678 - val_accuracy: 0.4769\n",
            "Epoch 3/10\n",
            "157/157 [==============================] - 55s 352ms/step - loss: 1.4094 - accuracy: 0.4906 - val_loss: 1.2640 - val_accuracy: 0.5473\n",
            "Epoch 4/10\n",
            "157/157 [==============================] - 55s 351ms/step - loss: 1.2791 - accuracy: 0.5421 - val_loss: 1.1642 - val_accuracy: 0.5876\n",
            "Epoch 5/10\n",
            "157/157 [==============================] - 55s 351ms/step - loss: 1.1880 - accuracy: 0.5816 - val_loss: 1.1706 - val_accuracy: 0.5842\n",
            "Epoch 6/10\n",
            "157/157 [==============================] - 55s 351ms/step - loss: 1.0899 - accuracy: 0.6181 - val_loss: 1.0696 - val_accuracy: 0.6262\n",
            "Epoch 7/10\n",
            "157/157 [==============================] - 55s 351ms/step - loss: 1.0168 - accuracy: 0.6450 - val_loss: 0.9987 - val_accuracy: 0.6473\n",
            "Epoch 8/10\n",
            "157/157 [==============================] - 55s 352ms/step - loss: 0.9637 - accuracy: 0.6661 - val_loss: 0.9424 - val_accuracy: 0.6679\n",
            "Epoch 9/10\n",
            "157/157 [==============================] - 55s 352ms/step - loss: 0.8925 - accuracy: 0.6906 - val_loss: 0.9484 - val_accuracy: 0.6722\n",
            "Epoch 10/10\n",
            "157/157 [==============================] - 55s 351ms/step - loss: 0.8639 - accuracy: 0.6999 - val_loss: 0.9272 - val_accuracy: 0.6793\n"
          ],
          "name": "stdout"
        }
      ]
    },
    {
      "cell_type": "code",
      "metadata": {
        "id": "9PaTd_vPeUA4",
        "colab": {
          "base_uri": "https://localhost:8080/"
        },
        "outputId": "0e4ed4a6-09b6-42da-9fc6-58eeb6ad7249"
      },
      "source": [
        "model.evaluate(x_test, y_test_one_hot)[1]"
      ],
      "execution_count": null,
      "outputs": [
        {
          "output_type": "stream",
          "text": [
            "313/313 [==============================] - 5s 16ms/step - loss: 0.9390 - accuracy: 0.6720\n"
          ],
          "name": "stdout"
        },
        {
          "output_type": "execute_result",
          "data": {
            "text/plain": [
              "0.671999990940094"
            ]
          },
          "metadata": {
            "tags": []
          },
          "execution_count": 17
        }
      ]
    },
    {
      "cell_type": "code",
      "metadata": {
        "id": "wA9sgQw5g2nK",
        "colab": {
          "base_uri": "https://localhost:8080/",
          "height": 296
        },
        "outputId": "60f52974-7198-486d-baa2-011ea1f07d3c"
      },
      "source": [
        "#Visualize the model's accuracy\n",
        "plt.plot(hist.history['accuracy'])\n",
        "plt.plot(hist.history['val_accuracy'])\n",
        "plt.title('Model accuracy')\n",
        "plt.ylabel('Accuracy')\n",
        "plt.xlabel('Epoch')\n",
        "plt.legend(['Train', 'Val'], loc='lower right')\n",
        "plt.show()"
      ],
      "execution_count": null,
      "outputs": [
        {
          "output_type": "display_data",
          "data": {
            "image/png": "[encoded data removed]",
            "text/plain": [
              "<Figure size 432x288 with 1 Axes>"
            ]
          },
          "metadata": {
            "tags": [],
            "needs_background": "light"
          }
        }
      ]
    },
    {
      "cell_type": "code",
      "metadata": {
        "colab": {
          "base_uri": "https://localhost:8080/",
          "height": 296
        },
        "id": "IDbTDOqiinII",
        "outputId": "62c3a92f-17fb-4a85-9c41-5af08c8d7631"
      },
      "source": [
        "#Visualize the model's loss\n",
        "plt.plot(hist.history['loss'])\n",
        "plt.plot(hist.history['val_loss'])\n",
        "plt.title('Model loss')\n",
        "plt.ylabel('Loss')\n",
        "plt.xlabel('Epoch')\n",
        "plt.legend(['Train', 'Val'], loc='upper right')\n",
        "plt.show()"
      ],
      "execution_count": null,
      "outputs": [
        {
          "output_type": "display_data",
          "data": {
            "image/png": "[encoded data removed]",
            "text/plain": [
              "<Figure size 432x288 with 1 Axes>"
            ]
          },
          "metadata": {
            "tags": [],
            "needs_background": "light"
          }
        }
      ]
    },
    {
      "cell_type": "markdown",
      "metadata": {
        "id": "0SwakRsVjp4z"
      },
      "source": [
        "###Test the model with an example"
      ]
    },
    {
      "cell_type": "code",
      "metadata": {
        "colab": {
          "resources": {
            "http://localhost:8080/nbextensions/google.colab/files.js": {
              "data": "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",
              "ok": true,
              "headers": [
                [
                  "content-type",
                  "application/javascript"
                ]
              ],
              "status": 200,
              "status_text": "OK"
            }
          },
          "base_uri": "https://localhost:8080/",
          "height": 75
        },
        "id": "evwfWgMRjuBp",
        "outputId": "80b76683-00bb-4f12-ed01-f27aa2e73d69"
      },
      "source": [
        "from google.colab import files\n",
        "uploaded = files.upload()"
      ],
      "execution_count": null,
      "outputs": [
        {
          "output_type": "display_data",
          "data": {
            "text/html": [
              "\n",
              "     <input type=\"file\" id=\"files-9dd9c427-afd4-4eb9-bd8d-025ab9f5a745\" name=\"files[]\" multiple disabled\n",
              "        style=\"border:none\" />\n",
              "     <output id=\"result-9dd9c427-afd4-4eb9-bd8d-025ab9f5a745\">\n",
              "      Upload widget is only available when the cell has been executed in the\n",
              "      current browser session. Please rerun this cell to enable.\n",
              "      </output>\n",
              "      <script src=\"/nbextensions/google.colab/files.js\"></script> "
            ],
            "text/plain": [
              "<IPython.core.display.HTML object>"
            ]
          },
          "metadata": {
            "tags": []
          }
        },
        {
          "output_type": "stream",
          "text": [
            "Saving received_679530795722211.jpg to received_679530795722211.jpg\n"
          ],
          "name": "stdout"
        }
      ]
    },
    {
      "cell_type": "code",
      "metadata": {
        "colab": {
          "base_uri": "https://localhost:8080/",
          "height": 266
        },
        "id": "ajdOjhCjj-M6",
        "outputId": "6abd703c-ba80-4c17-a484-96da56a262d8"
      },
      "source": [
        "#Show the image\n",
        "new_image = plt.imread('received_679530795722211.jpg')\n",
        "img = plt.imshow(new_image)"
      ],
      "execution_count": null,
      "outputs": [
        {
          "output_type": "display_data",
          "data": {
            "image/png": "[encoded data removed]",
            "text/plain": [
              "<Figure size 432x288 with 1 Axes>"
            ]
          },
          "metadata": {
            "tags": [],
            "needs_background": "light"
          }
        }
      ]
    },
    {
      "cell_type": "code",
      "metadata": {
        "colab": {
          "base_uri": "https://localhost:8080/",
          "height": 262
        },
        "id": "l4TcdRxmklvB",
        "outputId": "0f27e3bb-d3aa-4c0d-cd27-05f0a91d95e4"
      },
      "source": [
        "#Resize the image\n",
        "from skimage.transform import resize\n",
        "resized_image = resize(new_image, (32, 32, 3))\n",
        "img = plt.imshow(resized_image)"
      ],
      "execution_count": null,
      "outputs": [
        {
          "output_type": "display_data",
          "data": {
            "image/png": "[encoded data removed]",
            "text/plain": [
              "<Figure size 432x288 with 1 Axes>"
            ]
          },
          "metadata": {
            "tags": [],
            "needs_background": "light"
          }
        }
      ]
    },
    {
      "cell_type": "code",
      "metadata": {
        "colab": {
          "base_uri": "https://localhost:8080/"
        },
        "id": "UPwsDOlFk7eF",
        "outputId": "ca34c66e-7bc7-45c7-daf5-fb213e672572"
      },
      "source": [
        "#Get the model's predictions\n",
        "predictions = model.predict(np.array([resized_image]))\n",
        "\n",
        "#Show the predictions\n",
        "predictions"
      ],
      "execution_count": null,
      "outputs": [
        {
          "output_type": "execute_result",
          "data": {
            "text/plain": [
              "array([[0.0341157 , 0.01004752, 0.0668591 , 0.3434555 , 0.18736066,\n",
              "        0.21828446, 0.02640014, 0.0829018 , 0.02025002, 0.01032512]],\n",
              "      dtype=float32)"
            ]
          },
          "metadata": {
            "tags": []
          },
          "execution_count": 31
        }
      ]
    },
    {
      "cell_type": "code",
      "metadata": {
        "colab": {
          "base_uri": "https://localhost:8080/"
        },
        "id": "kP05nM50ljsQ",
        "outputId": "3cc81521-2fe4-4b69-ca39-ee6f759b7f90"
      },
      "source": [
        "#Sort the predictions from least to greatest\n",
        "list_index = [0,1,2,3,4,5,6,7,8,9]\n",
        "x = predictions\n",
        "\n",
        "for i in range(10):\n",
        "  for j in range(10):\n",
        "    if x[0][list_index[i]] > x[0][list_index[j]]:\n",
        "      temp = list_index[i]\n",
        "      list_index[i] = list_index[j]\n",
        "      list_index[j] = temp\n",
        "\n",
        "#Show sorted labels in order\n",
        "print(list_index)\n"
      ],
      "execution_count": null,
      "outputs": [
        {
          "output_type": "stream",
          "text": [
            "[3, 5, 4, 7, 2, 0, 6, 8, 9, 1]\n",
            "3\n"
          ],
          "name": "stdout"
        }
      ]
    },
    {
      "cell_type": "code",
      "metadata": {
        "colab": {
          "base_uri": "https://localhost:8080/"
        },
        "id": "g388nRblmlXO",
        "outputId": "ad02120e-23ca-4bfe-a033-08561022ee99"
      },
      "source": [
        "#Print the first 10 predictions\n",
        "for i in range(10):\n",
        "  print(classification[list_index[i]], ':', round(predictions[0][list_index[i]] * 100, 2), '%')"
      ],
      "execution_count": null,
      "outputs": [
        {
          "output_type": "stream",
          "text": [
            "cat : 34.35 %\n",
            "dog : 21.83 %\n",
            "deer : 18.74 %\n",
            "horse : 8.29 %\n",
            "bird : 6.69 %\n",
            "airplane : 3.41 %\n",
            "frog : 2.64 %\n",
            "ship : 2.03 %\n",
            "truck : 1.03 %\n",
            "automobile : 1.0 %\n"
          ],
          "name": "stdout"
        }
      ]
    },
    {
      "cell_type": "code",
      "metadata": {
        "id": "OMMkZl0xnBFg"
      },
      "source": [
        ""
      ],
      "execution_count": null,
      "outputs": []
    }
  ]
}